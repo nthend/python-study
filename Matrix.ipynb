{
 "cells": [
  {
   "cell_type": "code",
   "execution_count": 2,
   "metadata": {},
   "outputs": [],
   "source": [
    "import numpy as np"
   ]
  },
  {
   "cell_type": "code",
   "execution_count": 9,
   "metadata": {},
   "outputs": [
    {
     "name": "stdout",
     "output_type": "stream",
     "text": [
      "[[0.72339711 0.6135173  0.30687077]\n",
      " [0.33643498 0.51584636 0.77768385]] \n",
      "\n",
      " [[0.88896459 0.59776894 0.71254689 0.57993352 0.48160643 0.0587659\n",
      "  0.51966538 0.4204749  0.17114349 0.38007696]\n",
      " [0.32990207 0.86779437 0.20680187 0.90829459 0.63228041 0.92485988\n",
      "  0.56252963 0.15699233 0.6219438  0.31341976]\n",
      " [0.0484454  0.87001254 0.84266782 0.17488219 0.94570509 0.08804667\n",
      "  0.57040703 0.84414257 0.10750555 0.64876019]]\n"
     ]
    }
   ],
   "source": [
    "a = np.random.rand(2,3)\n",
    "b = np.random.rand(3,10)\n",
    "print(a,'\\n\\n',b)"
   ]
  },
  {
   "cell_type": "code",
   "execution_count": null,
   "metadata": {},
   "outputs": [],
   "source": []
  }
 ],
 "metadata": {
  "kernelspec": {
   "display_name": "Python 3",
   "language": "python",
   "name": "python3"
  },
  "language_info": {
   "codemirror_mode": {
    "name": "ipython",
    "version": 3
   },
   "file_extension": ".py",
   "mimetype": "text/x-python",
   "name": "python",
   "nbconvert_exporter": "python",
   "pygments_lexer": "ipython3",
   "version": "3.7.1"
  }
 },
 "nbformat": 4,
 "nbformat_minor": 2
}
